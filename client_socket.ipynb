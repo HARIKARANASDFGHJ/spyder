{
 "cells": [
  {
   "cell_type": "code",
   "execution_count": null,
   "id": "0f288ec3",
   "metadata": {},
   "outputs": [],
   "source": [
    "#Socket programming\n",
    "# Client server program...client will sends a request and server will send a response.\n",
    "# example. Google\n",
    "# wo concept first one is Port numbers and second one  is type of connection going to build\n",
    "# TCP(Transmission Control Protocol) & UDP( User Datagram Protocol)"
   ]
  },
  {
   "cell_type": "code",
   "execution_count": 1,
   "id": "0e964b6f",
   "metadata": {},
   "outputs": [
    {
     "name": "stdout",
     "output_type": "stream",
     "text": [
      "Enter your nameArun\n",
      "b'Welcome'\n"
     ]
    }
   ],
   "source": [
    "import socket\n",
    "c = socket.socket()\n",
    "c.connect(('localhost',9999))\n",
    "name=input('Enter your name')\n",
    "c.send(bytes(name,'utf-8'))\n",
    "print(c.recv(1024))"
   ]
  },
  {
   "cell_type": "code",
   "execution_count": null,
   "id": "2dba64f6",
   "metadata": {},
   "outputs": [],
   "source": []
  },
  {
   "cell_type": "code",
   "execution_count": null,
   "id": "d13d4c40",
   "metadata": {},
   "outputs": [],
   "source": []
  },
  {
   "cell_type": "code",
   "execution_count": null,
   "id": "9119de00",
   "metadata": {},
   "outputs": [],
   "source": []
  }
 ],
 "metadata": {
  "kernelspec": {
   "display_name": "Python 3 (ipykernel)",
   "language": "python",
   "name": "python3"
  },
  "language_info": {
   "codemirror_mode": {
    "name": "ipython",
    "version": 3
   },
   "file_extension": ".py",
   "mimetype": "text/x-python",
   "name": "python",
   "nbconvert_exporter": "python",
   "pygments_lexer": "ipython3",
   "version": "3.9.7"
  }
 },
 "nbformat": 4,
 "nbformat_minor": 5
}
